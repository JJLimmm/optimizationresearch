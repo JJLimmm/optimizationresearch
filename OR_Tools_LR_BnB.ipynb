{
  "cells": [
    {
      "cell_type": "markdown",
      "metadata": {
        "id": "view-in-github",
        "colab_type": "text"
      },
      "source": [
        "<a href=\"https://colab.research.google.com/github/JJLimmm/optimizationresearch/blob/main/OR_Tools_LR_BnB.ipynb\" target=\"_parent\"><img src=\"https://colab.research.google.com/assets/colab-badge.svg\" alt=\"Open In Colab\"/></a>"
      ]
    },
    {
      "cell_type": "markdown",
      "id": "d49f3a21",
      "metadata": {
        "id": "d49f3a21"
      },
      "source": [
        "# Operations Optimization II: Examples for Google OR-Tools\n",
        "\n",
        "Here are some practice examples for the Operations Optimization II lessons on the _**Branch-and-Bound**_ and _**Heuristic**_ Algorithms.\n",
        "\n",
        "You should finish the installation of **Google OR-Tools** and **Python** in your environment before starting on this practice code. The installation of Google OR-Tools can be found [here](https://developers.google.com/optimization/install)\n",
        "\n",
        "Below are examples for Integer Programming (**IP**) cases in order to help you understand how to solve optimization programs with the OR-Tools library.\n",
        "\n",
        "Here's the [guide](https://developers.google.com/optimization/mip) from Google OR-Tools documentation on Integer Programming Optimization.\n",
        "\n",
        "=================================================================================================================="
      ]
    },
    {
      "cell_type": "code",
      "source": [
        "#Install required libraries and dependencies\n",
        "!python -m pip install -U ortools\n",
        "!pip install pandas\n",
        "!pip install prettytable"
      ],
      "metadata": {
        "id": "FiQGAC31f_YM"
      },
      "id": "FiQGAC31f_YM",
      "execution_count": null,
      "outputs": []
    },
    {
      "cell_type": "markdown",
      "id": "0393fdc8",
      "metadata": {
        "id": "0393fdc8"
      },
      "source": [
        "## Practice 1: Facility Location\n",
        "\n",
        "In this example, we have binary variables included in our model. \n",
        "\n",
        "The problem description is as shown in the slides.\n",
        "\n",
        "The formulation is\n",
        "\\begin{array}{rll}\n",
        "                \\min & \\displaystyle \\sum_{j=1}^{5} f_jx_j + \\sum_{i=1}^{5} \\sum_{j=1}^{5} c_{ij}y_{ij} & \\\\[15pt]\n",
        "                \\mbox{s.t.}  \n",
        "                    & \\displaystyle \\sum_{i=1}^{5} y_{ij} \\leq K_jx_j & \\forall j = 1,...,5 \\\\[15pt]\n",
        "                    & \\displaystyle \\sum_{j=1}^{5} y_{ij} \\geq D_i & \\forall i = 1,...,5 \\\\[15pt]\n",
        "                    & x_{j} \\in \\{0, 1\\} &\\forall j = 1,...,5 \\\\[5pt]\n",
        "                    & y_{ij} \\geq 0 & \\forall i = 1,...,5, j = 1,...,5.\n",
        "\\end{array}\n",
        "\n",
        "where...\n",
        "\\begin{split}\n",
        "    & f_j = \\mbox{ weekly operation cost of distribution center j } \\\\\n",
        "    & c_{ij} = \\mbox{ Shipping cost per book from distribution center j to region i } \\\\\n",
        "    & K_j = \\mbox{ Capacity of distribution center j } \\\\\n",
        "    & D_i = \\mbox{ Book demand of region i }\n",
        "\\end{split}\n",
        "\n",
        "and the decision variables are...\n",
        "\\begin{split}\n",
        "    & x_j = \\mbox{ 1 if a distribution center is built at location j, 0 otherwise. } \\\\\n",
        "    & y_{ij} = \\mbox{ Number of books shipped from distribution center j (cities) to region i (markets) }\n",
        "\\end{split}"
      ]
    },
    {
      "cell_type": "markdown",
      "id": "d4032ae5",
      "metadata": {
        "id": "d4032ae5"
      },
      "source": [
        "### Step 1\n",
        "We should import the Google OR-Tools optimization package and its relevant libraries called *ortools* first, and then declare the **solver**.\n",
        "\n",
        "However, this time round instead of using the GLOP, we shall use the **SCIP** (Solving Constraints Integer Programs) for Mixed Integer (Linear and Nonlinear) Programming (**MIP**) when declaring the solver.\n",
        "\n",
        "The *pywraplp* is a Python wrapper for the underlying solver created in C++.\n",
        "The [API Reference Documentation](https://google.github.io/or-tools/python/ortools/linear_solver/pywraplp.html#Solver) can be found here."
      ]
    },
    {
      "cell_type": "code",
      "execution_count": null,
      "id": "d99233fe",
      "metadata": {
        "id": "d99233fe"
      },
      "outputs": [],
      "source": [
        "# Import libraries and packages\n",
        "from ortools.linear_solver import pywraplp\n",
        "from ortools.init import pywrapinit\n",
        "import pandas as pd\n",
        "\n",
        "# Declare the solver\n",
        "# The argument 'SCIP' is for using the Solving Constraints Integer Programs back-end package\n",
        "solver = pywraplp.Solver.CreateSolver('SCIP')"
      ]
    },
    {
      "cell_type": "markdown",
      "id": "ad14feb5",
      "metadata": {
        "id": "ad14feb5"
      },
      "source": [
        "#### Next, we will load the data from the excel sheets. "
      ]
    },
    {
      "cell_type": "code",
      "execution_count": null,
      "id": "95ed3455",
      "metadata": {
        "scrolled": true,
        "id": "95ed3455"
      },
      "outputs": [],
      "source": [
        "# Read excel sheets and transform them into lists and matrices\n",
        "\n",
        "#Read from 1st sheet, Basic Information\n",
        "#where \n",
        "#cities = distribution centers j\n",
        "#market = regions i\n",
        "basic_info = pd.read_excel('IP_dataset.xlsx', 'Basic information', engine='openpyxl')\n",
        "cities = range(len(basic_info['City']))\n",
        "city_names = basic_info['City']\n",
        "markets = range(len(basic_info['Market']))\n",
        "market_names = basic_info['Market']\n",
        "\n",
        "#Read from 2nd sheet, City's Information\n",
        "city_info = pd.read_excel('IP_dataset.xlsx', 'City\\'s information', engine='openpyxl')\n",
        "operating_costs = city_info['Operating cost']\n",
        "capacities = city_info['Capacity']\n",
        "\n",
        "#Read from 3rd sheet, Market's Information\n",
        "market_info = pd.read_excel('IP_dataset.xlsx', 'Market\\'s information', engine='openpyxl')\n",
        "demands = market_info['Demand']\n",
        "\n",
        "#Read from 4th sheet, Shipping cost\n",
        "shipping_info = pd.read_excel('IP_dataset.xlsx', 'Shipping cost', index_col = 0, engine='openpyxl')\n",
        "shipping_costs = []\n",
        "for i in shipping_info.index:\n",
        "    shipping_costs.append(list(shipping_info.loc[i]))"
      ]
    },
    {
      "cell_type": "markdown",
      "id": "57466ea7",
      "metadata": {
        "id": "57466ea7"
      },
      "source": [
        "#### Run the portion of the code below if you want to see how the data looks like when stored."
      ]
    },
    {
      "cell_type": "code",
      "execution_count": null,
      "id": "2c8183c5",
      "metadata": {
        "id": "2c8183c5",
        "outputId": "89808dd1-bcc5-45c7-867b-a58ec15b08af"
      },
      "outputs": [
        {
          "name": "stdout",
          "output_type": "stream",
          "text": [
            "Data from \"Basic Information\" sheet.\n",
            "\n",
            "               City     Market\n",
            "0       Spokane, WA  Northwest\n",
            "1          Reno, NV  Southwest\n",
            "2         Omahe, NE    Midwest\n",
            "3    Harrisburg, PA  Southeast\n",
            "4  Jacksonville, FL  Northeast\n",
            "\n",
            " cities:  range(0, 5)\n",
            "\n",
            " City names: \n",
            " 0         Spokane, WA\n",
            "1            Reno, NV\n",
            "2           Omahe, NE\n",
            "3      Harrisburg, PA\n",
            "4    Jacksonville, FL\n",
            "Name: City, dtype: object\n",
            "\n",
            " markets:  range(0, 5)\n",
            "\n",
            " Market names: \n",
            " 0    Northwest\n",
            "1    Southwest\n",
            "2      Midwest\n",
            "3    Southeast\n",
            "4    Northeast\n",
            "Name: Market, dtype: object\n",
            "\n",
            "\n",
            " Data from \"City's Information\" sheet.\n",
            "\n",
            "\n",
            "               City  Operating cost  Capacity\n",
            "0       Spokane, WA           40000     20000\n",
            "1          Reno, NV           30000     20000\n",
            "2         Omahe, NE           25000     15000\n",
            "3    Harrisburg, PA           40000     25000\n",
            "4  Jacksonville, FL           30000     15000\n",
            "\n",
            " operating_costs: \n",
            " 0    40000\n",
            "1    30000\n",
            "2    25000\n",
            "3    40000\n",
            "4    30000\n",
            "Name: Operating cost, dtype: int64\n",
            "<class 'pandas.core.series.Series'>\n",
            "\n",
            " capacities: \n",
            " 0    20000\n",
            "1    20000\n",
            "2    15000\n",
            "3    25000\n",
            "4    15000\n",
            "Name: Capacity, dtype: int64\n",
            "\n",
            "\n",
            " Data from \"Market's Information\" sheet.\n",
            "\n",
            "      Market  Demand\n",
            "0  Northwest    8000\n",
            "1  Southwest   12000\n",
            "2    Midwest    9000\n",
            "3  Southeast   14000\n",
            "4  Northeast   17000\n",
            "\n",
            " demands: \n",
            " 0     8000\n",
            "1    12000\n",
            "2     9000\n",
            "3    14000\n",
            "4    17000\n",
            "Name: Demand, dtype: int64\n",
            "\n",
            "\n",
            " Data from \"Shipping cost\" sheet.\n",
            "           Spokane, WA  Reno, NV  Omahe, NE  Harrisburg, PA  Jacksonville, FL\n",
            "Northwest         2.40      3.25       4.05            5.25              6.95\n",
            "Southwest         3.50      2.30       3.25            6.05              5.85\n",
            "Midwest           4.80      3.40       2.85            4.30              4.80\n",
            "Southeast         6.80      5.25       4.30            3.25              2.10\n",
            "Northeast         5.75      6.00       4.75            2.75              3.50\n",
            "\n",
            " shipping_costs: \n",
            " [[2.4, 3.25, 4.05, 5.25, 6.95], [3.5, 2.3, 3.25, 6.05, 5.85], [4.8, 3.4, 2.85, 4.3, 4.8], [6.8, 5.25, 4.3, 3.25, 2.1], [5.75, 6.0, 4.75, 2.75, 3.5]]\n"
          ]
        }
      ],
      "source": [
        "# Display data loaded from excel with print statements\n",
        "print('Data from \"Basic Information\" sheet.\\n')\n",
        "with pd.option_context('display.max_rows', None, 'display.max_columns', None):  # more options can be specified also\n",
        "    print(basic_info)\n",
        "print(\"\\n cities: \", cities)\n",
        "print(\"\\n City names: \\n\", city_names)\n",
        "print(\"\\n markets: \", markets)\n",
        "print(\"\\n Market names: \\n\", market_names)\n",
        "\n",
        "print('\\n\\n Data from \"City\\'s Information\" sheet.\\n\\n')\n",
        "with pd.option_context('display.max_rows', None, 'display.max_columns', None):  # more options can be specified also\n",
        "    print(city_info)\n",
        "print(\"\\n operating_costs: \\n\", operating_costs)\n",
        "print(type(operating_costs))\n",
        "print(\"\\n capacities: \\n\", capacities)\n",
        "\n",
        "print('\\n\\n Data from \"Market\\'s Information\" sheet.\\n')\n",
        "with pd.option_context('display.max_rows', None, 'display.max_columns', None):  # more options can be specified also\n",
        "    print(market_info)\n",
        "print(\"\\n demands: \\n\", demands)\n",
        "\n",
        "print('\\n\\n Data from \"Shipping cost\" sheet.')\n",
        "with pd.option_context('display.max_rows', None, 'display.max_columns', None):  # more options can be specified also\n",
        "    print(shipping_info)\n",
        "print(\"\\n shipping_costs: \\n\", shipping_costs)"
      ]
    },
    {
      "cell_type": "markdown",
      "id": "964bbef8",
      "metadata": {
        "id": "964bbef8"
      },
      "source": [
        "### Step 2\n",
        "\n",
        "Now, you will attempt to create your Integer Programming Solver for this practice example with the Model-Data Decoupling concept.\n",
        "\n",
        "Using the same steps as what you have learnt during the Practice 1 for Simplex Method, create your program and solve the problem.\n",
        "\n",
        "#### Recall:\n",
        "\n",
        "The steps for creating an IP solver is similar to the steps for a LP solver in simplex method where...\n",
        "1. Import the ortools library and declare the **Solver**.\n",
        "2. Declare **Variables** in LP problem.\n",
        "3. Declare the **Objective function**.\n",
        "4. Declare the **Constraints**.\n",
        "5. Call the ortools solver to find the **Optimal BFS**.\n",
        "6. Check the **Solver status** and display the **results**.\n",
        "\n",
        "**Step 1** has already been done above. Continue on with **step 2** to create your solver."
      ]
    },
    {
      "cell_type": "code",
      "execution_count": null,
      "id": "fd533cb5",
      "metadata": {
        "scrolled": true,
        "id": "fd533cb5",
        "outputId": "c7fb3450-358e-47f3-e06a-7b3cfdbec76f"
      },
      "outputs": [
        {
          "name": "stdout",
          "output_type": "stream",
          "text": [
            "Number of variables :  30\n",
            "\n",
            " x variables:  [x1, x2, x3, x4, x5]\n",
            "\n",
            " y variables:  [[y11, y12, y13, y14, y15], [y21, y22, y23, y24, y25], [y31, y32, y33, y34, y35], [y41, y42, y43, y44, y45], [y51, y52, y53, y54, y55]]\n",
            "\n",
            " Number of Constraints:  10\n",
            "\n",
            "Solver has finished.\n",
            "\n",
            " The flag number for the solver status is 0\n",
            "---------------------------------------------------------\n",
            "\n",
            "Result:\n",
            "\n",
            "x1 = 0.0\n",
            "x2 = 1.0\n",
            "x3 = 0.0\n",
            "x4 = 1.0\n",
            "x5 = 1.0\n",
            "+------------------+-----------+-----------+---------+-----------+-----------+\n",
            "|     Centers      | Northwest | Southwest | Midwest | Southeast | Northeast |\n",
            "+------------------+-----------+-----------+---------+-----------+-----------+\n",
            "|   Spokane, WA    |    0.0    |    0.0    |   0.0   |    0.0    |    0.0    |\n",
            "|     Reno, NV     |   8000.0  |  12000.0  |   0.0   |    0.0    |    0.0    |\n",
            "|    Omahe, NE     |    0.0    |    0.0    |   0.0   |    0.0    |    0.0    |\n",
            "|  Harrisburg, PA  |    0.0    |    0.0    |  8000.0 |    0.0    |  17000.0  |\n",
            "| Jacksonville, FL |    0.0    |    0.0    |  1000.0 |  14000.0  |    0.0    |\n",
            "+------------------+-----------+-----------+---------+-----------+-----------+\n",
            "Problem solved in 155.00 ms.\n",
            "Objective Value, z* = 268949.9999999999\n",
            "No. of Iterations= 86\n",
            "No. of nodes explored= 2\n"
          ]
        }
      ],
      "source": [
        "### Start Here ###\n",
        "\n",
        "## Step 2: Declare Variables in the IP problem\n",
        "# hint1: variables are the decision variables from the example\n",
        "# hint2: For creating binary integer variables, declare the lb and ub when using IntVar() as 0 and 1, respectively.\n",
        "# Initialise two lists to store the 2 variables\n",
        "x = []\n",
        "y = []\n",
        "# Declare and store variables of x and y in its list\n",
        "for j in cities:\n",
        "    x.append(solver.IntVar(lb = 0, ub = 1, name = \"x\" + str(j+1)))\n",
        "for i in markets:\n",
        "    y.append([])  # creating a nested list; for each i, there is a list of j\n",
        "    for j in cities:\n",
        "        y[i].append(solver.NumVar(lb = 0, ub = solver.infinity(), name = \"y\" + str(i+1) + str(j+1)))\n",
        "print(\"Number of variables : \", solver.NumVariables())\n",
        "print(\"\\n x variables: \",x)\n",
        "print(\"\\n y variables: \",y)\n",
        "\n",
        "\n",
        "## Step 3: Declare the objective function\n",
        "obj_func = solver.Objective()\n",
        "for j in cities:\n",
        "    obj_func.SetCoefficient(x[j] , operating_costs[j].item())\n",
        "for i in markets:\n",
        "    for j in cities:\n",
        "        obj_func.SetCoefficient(y[i][j], shipping_costs[i][j])\n",
        "\n",
        "\n",
        "## Step 4: Declare the Constraints\n",
        "#hint1: Think of how many constraints there are\n",
        "for j in cities:\n",
        "    solver.Add(sum(y[i][j] for i in markets) <= (capacities[j] * x[j])) # Capacity constraint\n",
        "\n",
        "for i in markets:\n",
        "    solver.Add(sum(y[i][j] for j in cities) >= demands[i]) # Demands Constraint\n",
        "\n",
        "print(\"\\n Number of Constraints: \", solver.NumConstraints())\n",
        "\n",
        "\n",
        "## Step 5: Call the ortools solver and find the Optimal solution\n",
        "solver_status = solver.Solve()\n",
        "print(\"\\nSolver has finished.\")\n",
        "\n",
        "\n",
        "## Step 6: Check Solver status and display results\n",
        "if solver_status == pywraplp.Solver.OPTIMAL:\n",
        "    print(f\"\\nThe flag number for the solver status is {solver_status}\")\n",
        "    print(\"---------------------------------------------------------\\n\")\n",
        "    print(\"Result:\\n\")\n",
        "    for j in cities:\n",
        "        print(x[j].name(), '=', x[j].solution_value())\n",
        "        \n",
        "    # Print out a table for results using the PrettyTable library functions\n",
        "    from prettytable import PrettyTable\n",
        "    results_table = PrettyTable()\n",
        "    column0 = [\"Centers\"]\n",
        "    headers = pd.concat([pd.Series(column0), market_names], ignore_index =True)\n",
        "    results_table.field_names = headers\n",
        "    for j in cities:\n",
        "        row_values = []\n",
        "        row_values.append(city_names[j])\n",
        "        for i in markets:\n",
        "            row_values.append(round(y[i][j].solution_value(),1))\n",
        "        results_table.add_row(row_values)\n",
        "    print(results_table)\n",
        "    \n",
        "    # Display other metrics\n",
        "    print(\"Problem solved in {:.2f} ms.\".format(solver.wall_time()))\n",
        "    print(\"Objective Value, z* =\", solver.Objective().Value())\n",
        "    print(\"No. of Iterations=\", solver.Iterations())\n",
        "    print(\"No. of nodes explored=\", solver.nodes())\n",
        "\n",
        "else:\n",
        "    print(f\"The problem does not have an optimal solution with Flag number {solver_status}.\")\n"
      ]
    },
    {
      "cell_type": "markdown",
      "id": "f8c7435b",
      "metadata": {
        "id": "f8c7435b"
      },
      "source": [
        "### What if...\n",
        "Now the company wants to set up at least 4 centers for some reasons, how should we modify the model?"
      ]
    }
  ],
  "metadata": {
    "kernelspec": {
      "display_name": "Python [conda env:OR_rheinmetall]",
      "language": "python",
      "name": "conda-env-OR_rheinmetall-py"
    },
    "language_info": {
      "codemirror_mode": {
        "name": "ipython",
        "version": 3
      },
      "file_extension": ".py",
      "mimetype": "text/x-python",
      "name": "python",
      "nbconvert_exporter": "python",
      "pygments_lexer": "ipython3",
      "version": "3.6.13"
    },
    "colab": {
      "name": "OR_Tools_LR_BnB.ipynb",
      "provenance": [],
      "include_colab_link": true
    }
  },
  "nbformat": 4,
  "nbformat_minor": 5
}