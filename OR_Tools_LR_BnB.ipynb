{
  "cells": [
    {
      "cell_type": "markdown",
      "metadata": {
        "id": "view-in-github",
        "colab_type": "text"
      },
      "source": [
        "<a href=\"https://colab.research.google.com/github/JJLimmm/optimizationresearch/blob/main/OR_Tools_LR_BnB.ipynb\" target=\"_parent\"><img src=\"https://colab.research.google.com/assets/colab-badge.svg\" alt=\"Open In Colab\"/></a>"
      ]
    },
    {
      "cell_type": "markdown",
      "id": "d49f3a21",
      "metadata": {
        "id": "d49f3a21"
      },
      "source": [
        "# Operations Optimization II: Examples for Google OR-Tools\n",
        "\n",
        "Here are some practice examples for the Operations Optimization II lessons on the _**Branch-and-Bound**_ and _**Heuristic**_ Algorithms.\n",
        "\n",
        "You should finish the installation of **Google OR-Tools** and **Python** in your environment before starting on this practice code. The installation of Google OR-Tools can be found [here](https://developers.google.com/optimization/install)\n",
        "\n",
        "Below are examples for Integer Programming (**IP**) cases in order to help you understand how to solve optimization programs with the OR-Tools library.\n",
        "\n",
        "Here's the [guide](https://developers.google.com/optimization/mip) from Google OR-Tools documentation on Integer Programming Optimization.\n",
        "\n",
        "=================================================================================================================="
      ]
    },
    {
      "cell_type": "code",
      "source": [
        "#Install required libraries and dependencies\n",
        "!python -m pip install -U ortools\n",
        "!pip install pandas\n",
        "!pip install prettytable"
      ],
      "metadata": {
        "id": "TjZ0_XI70hkI"
      },
      "id": "TjZ0_XI70hkI",
      "execution_count": null,
      "outputs": []
    },
    {
      "cell_type": "markdown",
      "id": "0393fdc8",
      "metadata": {
        "id": "0393fdc8"
      },
      "source": [
        "## Practice 1: Facility Location\n",
        "\n",
        "In this example, we have binary variables included in our model. \n",
        "\n",
        "The problem description is as shown in the slides.\n",
        "\n",
        "The formulation is\n",
        "\\begin{array}{rll}\n",
        "                \\min & \\displaystyle \\sum_{j=1}^{5} f_jx_j + \\sum_{i=1}^{5} \\sum_{j=1}^{5} c_{ij}y_{ij} & \\\\[15pt]\n",
        "                \\mbox{s.t.}  \n",
        "                    & \\displaystyle \\sum_{i=1}^{5} y_{ij} \\leq K_jx_j & \\forall j = 1,...,5 \\\\[15pt]\n",
        "                    & \\displaystyle \\sum_{j=1}^{5} y_{ij} \\geq D_i & \\forall i = 1,...,5 \\\\[15pt]\n",
        "                    & x_{j} \\in \\{0, 1\\} &\\forall j = 1,...,5 \\\\[5pt]\n",
        "                    & y_{ij} \\geq 0 & \\forall i = 1,...,5, j = 1,...,5.\n",
        "\\end{array}\n",
        "\n",
        "where...\n",
        "\\begin{split}\n",
        "    & f_j = \\mbox{ weekly operation cost of distribution center j } \\\\\n",
        "    & c_{ij} = \\mbox{ Shipping cost per book from distribution center j to region i } \\\\\n",
        "    & K_j = \\mbox{ Capacity of distribution center j } \\\\\n",
        "    & D_i = \\mbox{ Book demand of region i }\n",
        "\\end{split}\n",
        "\n",
        "and the decision variables are...\n",
        "\\begin{split}\n",
        "    & x_j = \\mbox{ 1 if a distribution center is built at location j, 0 otherwise. } \\\\\n",
        "    & y_{ij} = \\mbox{ Number of books shipped from distribution center j (cities) to region i (markets) }\n",
        "\\end{split}"
      ]
    },
    {
      "cell_type": "markdown",
      "id": "d4032ae5",
      "metadata": {
        "id": "d4032ae5"
      },
      "source": [
        "### Step 1\n",
        "We should import the Google OR-Tools optimization package and its relevant libraries called *ortools* first, and then declare the **solver**.\n",
        "\n",
        "However, this time round instead of using the GLOP, we shall use the **SCIP** (Solving Constraints Integer Programs) for Mixed Integer (Linear and Nonlinear) Programming (**MIP**) when declaring the solver.\n",
        "\n",
        "The *pywraplp* is a Python wrapper for the underlying solver created in C++.\n",
        "The [API Reference Documentation](https://google.github.io/or-tools/python/ortools/linear_solver/pywraplp.html#Solver) can be found here."
      ]
    },
    {
      "cell_type": "code",
      "execution_count": null,
      "id": "d99233fe",
      "metadata": {
        "id": "d99233fe"
      },
      "outputs": [],
      "source": [
        "# Import libraries and packages\n",
        "from ortools.linear_solver import pywraplp\n",
        "from ortools.init import pywrapinit\n",
        "import pandas as pd\n",
        "\n",
        "# Declare the solver\n",
        "# The argument 'SCIP' is for using the Solving Constraints Integer Programs back-end package\n",
        "solver = pywraplp.Solver.CreateSolver('SCIP')"
      ]
    },
    {
      "cell_type": "code",
      "source": [
        "# Download this excel file and drag it from your downloads folder into folders section on the right\n",
        "# https://docs.google.com/spreadsheets/d/19AnuOkEqjsRv3dzEvRB6TEucwd8Df9c8/edit?usp=sharing&ouid=106473905858933949429&rtpof=true&sd=true"
      ],
      "metadata": {
        "id": "DnXt7WppHAvB"
      },
      "id": "DnXt7WppHAvB",
      "execution_count": null,
      "outputs": []
    },
    {
      "cell_type": "markdown",
      "id": "ad14feb5",
      "metadata": {
        "id": "ad14feb5"
      },
      "source": [
        "#### Next, we will load the data from the excel sheets. "
      ]
    },
    {
      "cell_type": "code",
      "execution_count": null,
      "id": "95ed3455",
      "metadata": {
        "scrolled": true,
        "id": "95ed3455"
      },
      "outputs": [],
      "source": [
        "# Read excel sheets and transform them into lists and matrices\n",
        "\n",
        "#Read from 1st sheet, Basic Information\n",
        "#where \n",
        "#cities = distribution centers j\n",
        "#market = regions i\n",
        "basic_info = pd.read_excel('practice2_dataset.xlsx', 'Basic information', engine='openpyxl')\n",
        "cities = range(len(basic_info['City']))\n",
        "city_names = basic_info['City']\n",
        "markets = range(len(basic_info['Market']))\n",
        "market_names = basic_info['Market']\n",
        "\n",
        "#Read from 2nd sheet, City's Information\n",
        "city_info = pd.read_excel('practice2_dataset.xlsx', 'City\\'s information', engine='openpyxl')\n",
        "operating_costs = city_info['Operating cost']\n",
        "capacities = city_info['Capacity']\n",
        "\n",
        "#Read from 3rd sheet, Market's Information\n",
        "market_info = pd.read_excel('practice2_dataset.xlsx', 'Market\\'s information', engine='openpyxl')\n",
        "demands = market_info['Demand']\n",
        "\n",
        "#Read from 4th sheet, Shipping cost\n",
        "shipping_info = pd.read_excel('practice2_dataset.xlsx', 'Shipping cost', index_col = 0, engine='openpyxl')\n",
        "shipping_costs = []\n",
        "for i in shipping_info.index:\n",
        "    shipping_costs.append(list(shipping_info.loc[i]))"
      ]
    },
    {
      "cell_type": "markdown",
      "id": "57466ea7",
      "metadata": {
        "id": "57466ea7"
      },
      "source": [
        "#### Run the portion of the code below if you want to see how the data looks like when stored."
      ]
    },
    {
      "cell_type": "code",
      "execution_count": null,
      "id": "2c8183c5",
      "metadata": {
        "id": "2c8183c5"
      },
      "outputs": [],
      "source": [
        "# Display data loaded from excel with print statements\n",
        "print('Data from \"Basic Information\" sheet.\\n')\n",
        "with pd.option_context('display.max_rows', None, 'display.max_columns', None):  # more options can be specified also\n",
        "    print(basic_info)\n",
        "print(\"\\n cities: \", cities)\n",
        "print(\"\\n City names: \\n\", city_names)\n",
        "print(\"\\n markets: \", markets)\n",
        "print(\"\\n Market names: \\n\", market_names)\n",
        "\n",
        "print('\\n\\n Data from \"City\\'s Information\" sheet.\\n\\n')\n",
        "with pd.option_context('display.max_rows', None, 'display.max_columns', None):  # more options can be specified also\n",
        "    print(city_info)\n",
        "print(\"\\n operating_costs: \\n\", operating_costs)\n",
        "print(type(operating_costs))\n",
        "print(\"\\n capacities: \\n\", capacities)\n",
        "\n",
        "print('\\n\\n Data from \"Market\\'s Information\" sheet.\\n')\n",
        "with pd.option_context('display.max_rows', None, 'display.max_columns', None):  # more options can be specified also\n",
        "    print(market_info)\n",
        "print(\"\\n demands: \\n\", demands)\n",
        "\n",
        "print('\\n\\n Data from \"Shipping cost\" sheet.')\n",
        "with pd.option_context('display.max_rows', None, 'display.max_columns', None):  # more options can be specified also\n",
        "    print(shipping_info)\n",
        "print(\"\\n shipping_costs: \\n\", shipping_costs)"
      ]
    },
    {
      "cell_type": "markdown",
      "id": "964bbef8",
      "metadata": {
        "id": "964bbef8"
      },
      "source": [
        "### Step 2\n",
        "\n",
        "Now, you will attempt to create your Integer Programming Solver for this practice example with the Model-Data Decoupling concept.\n",
        "\n",
        "Using the same steps as what you have learnt during the Practice 1 for Simplex Method, create your program and solve the problem.\n",
        "\n",
        "#### Recall:\n",
        "\n",
        "The steps for creating an IP solver is similar to the steps for a LP solver in simplex method where...\n",
        "1. Import the ortools library and declare the **Solver**.\n",
        "2. Declare **Variables** in LP problem.\n",
        "3. Declare the **Objective function**.\n",
        "4. Declare the **Constraints**.\n",
        "5. Call the ortools solver to find the **Optimal BFS**.\n",
        "6. Check the **Solver status** and display the **results**.\n",
        "\n",
        "**Step 1** has already been done above. Continue on with **step 2** to create your solver."
      ]
    },
    {
      "cell_type": "code",
      "execution_count": null,
      "id": "fd533cb5",
      "metadata": {
        "scrolled": true,
        "id": "fd533cb5"
      },
      "outputs": [],
      "source": [
        "### Start Here ###\n",
        "\n",
        "## Step 2: Declare Variables in the IP problem\n",
        "# hint1: variables are the decision variables from the example\n",
        "# hint2: For creating binary integer variables, declare the lb and ub when using IntVar() as 0 and 1, respectively.\n",
        "# Initialise two lists to store the 2 variables\n",
        "x = []\n",
        "y = []\n",
        "# Declare and store variables of x and y in its list\n",
        "for j in cities:\n",
        "    x.append(solver.IntVar(lb = 0, ub = 1, name = \"x\" + str(j+1)))\n",
        "for i in markets:\n",
        "    y.append([])  # creating a nested list; for each i, there is a list of j\n",
        "    for j in cities:\n",
        "        y[i].append(solver.NumVar(lb = 0, ub = solver.infinity(), name = \"y\" + str(i+1) + str(j+1)))\n",
        "print(\"Number of variables : \", solver.NumVariables())\n",
        "print(\"\\n x variables: \",x)\n",
        "print(\"\\n y variables: \",y)\n",
        "\n",
        "\n",
        "## Step 3: Declare the objective function\n",
        "obj_func = solver.Objective()\n",
        "for j in cities:\n",
        "    obj_func.SetCoefficient(x[j] , operating_costs[j].item())\n",
        "for i in markets:\n",
        "    for j in cities:\n",
        "        obj_func.SetCoefficient(y[i][j], shipping_costs[i][j])\n",
        "\n",
        "\n",
        "## Step 4: Declare the Constraints\n",
        "#hint1: Think of how many constraints there are\n",
        "for j in cities:\n",
        "    solver.Add(sum(y[i][j] for i in markets) <= (capacities[j] * x[j])) # Capacity constraint\n",
        "\n",
        "for i in markets:\n",
        "    solver.Add(sum(y[i][j] for j in cities) >= demands[i]) # Demands Constraint\n",
        "\n",
        "print(\"\\n Number of Constraints: \", solver.NumConstraints())\n",
        "\n",
        "\n",
        "## Step 5: Call the ortools solver and find the Optimal solution\n",
        "solver_status = solver.Solve()\n",
        "print(\"\\nSolver has finished.\")\n",
        "\n",
        "\n",
        "## Step 6: Check Solver status and display results\n",
        "if solver_status == pywraplp.Solver.OPTIMAL:\n",
        "    print(f\"\\nThe flag number for the solver status is {solver_status}\")\n",
        "    print(\"---------------------------------------------------------\\n\")\n",
        "    print(\"Result:\\n\")\n",
        "    for j in cities:\n",
        "        print(x[j].name(), '=', x[j].solution_value())\n",
        "        \n",
        "    # Print out a table for results using the PrettyTable library functions\n",
        "    from prettytable import PrettyTable\n",
        "    results_table = PrettyTable()\n",
        "    column0 = [\"Centers\"]\n",
        "    headers = pd.concat([pd.Series(column0), market_names], ignore_index =True)\n",
        "    results_table.field_names = headers\n",
        "    for j in cities:\n",
        "        row_values = []\n",
        "        row_values.append(city_names[j])\n",
        "        for i in markets:\n",
        "            row_values.append(round(y[i][j].solution_value(),1))\n",
        "        results_table.add_row(row_values)\n",
        "    print(results_table)\n",
        "    \n",
        "    # Display other metrics\n",
        "    print(\"Problem solved in {:.2f} ms.\".format(solver.wall_time()))\n",
        "    print(\"Objective Value, z* =\", solver.Objective().Value())\n",
        "    print(\"No. of Iterations=\", solver.Iterations())\n",
        "    print(\"No. of nodes explored=\", solver.nodes())\n",
        "\n",
        "else:\n",
        "    print(f\"The problem does not have an optimal solution with Flag number {solver_status}.\")\n"
      ]
    },
    {
      "cell_type": "markdown",
      "id": "f8c7435b",
      "metadata": {
        "id": "f8c7435b"
      },
      "source": [
        "### What if...\n",
        "Now the company wants to set up at least 4 centers for some reasons, how should we modify the model?"
      ]
    }
  ],
  "metadata": {
    "kernelspec": {
      "display_name": "Python [conda env:OR_rheinmetall]",
      "language": "python",
      "name": "conda-env-OR_rheinmetall-py"
    },
    "language_info": {
      "codemirror_mode": {
        "name": "ipython",
        "version": 3
      },
      "file_extension": ".py",
      "mimetype": "text/x-python",
      "name": "python",
      "nbconvert_exporter": "python",
      "pygments_lexer": "ipython3",
      "version": "3.6.13"
    },
    "colab": {
      "name": "OR_Tools_LR_BnB.ipynb",
      "provenance": [],
      "collapsed_sections": [],
      "include_colab_link": true
    }
  },
  "nbformat": 4,
  "nbformat_minor": 5
}