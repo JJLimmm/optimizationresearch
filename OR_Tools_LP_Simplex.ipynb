{
  "cells": [
    {
      "cell_type": "markdown",
      "metadata": {
        "id": "view-in-github",
        "colab_type": "text"
      },
      "source": [
        "<a href=\"https://colab.research.google.com/github/JJLimmm/optimizationresearch/blob/main/OR_Tools_LP_Simplex.ipynb\" target=\"_parent\"><img src=\"https://colab.research.google.com/assets/colab-badge.svg\" alt=\"Open In Colab\"/></a>"
      ]
    },
    {
      "cell_type": "markdown",
      "id": "05077b1e",
      "metadata": {
        "id": "05077b1e"
      },
      "source": [
        "# Operations Optimization II: Examples for Google OR-Tools\n",
        "\n",
        "Here are some practice examples for the Operations Optimization II lessons on _**Simplex Method**_. \n",
        "\n",
        "You should finish the installation of **Google OR-Tools** and **Python** in your environment before starting on this practice code. The installation of Google OR-Tools can be found [here](https://developers.google.com/optimization/install)\n",
        "\n",
        "Below are examples for Linear Programming (**LP**) cases in order to help you understand how to solve optimization programs with the OR-Tools library.\n",
        "\n",
        "=================================================================================================================="
      ]
    },
    {
      "cell_type": "code",
      "source": [
        "# First, we will install the libraries required for our examples\n",
        "!python -m pip install -U ortools\n",
        "!pip install pandas\n",
        "!pip install prettytable"
      ],
      "metadata": {
        "id": "MxzskgT5dU3v"
      },
      "id": "MxzskgT5dU3v",
      "execution_count": null,
      "outputs": []
    },
    {
      "cell_type": "markdown",
      "id": "d931cf8c",
      "metadata": {
        "collapsed": true,
        "id": "d931cf8c"
      },
      "source": [
        "## Practice 1: Producing desks and tables\n",
        "\n",
        "Consider the problem we introduced in Operations Optimization II, we have the LP problem where...\n",
        "\n",
        "\\begin{split}\n",
        "    x_1 = \\mbox{ number of desks produced in a day } \\\\\n",
        "    x_2 = \\mbox{ number of tables produced in a day }\n",
        "\\end{split}\n",
        "\n",
        "\\begin{split}\n",
        "    \\begin{array}{r}\n",
        "        \\max \\\\ \\mbox{s.t.} \\\\ \\\\ \\\\ \\\\ \\\\ \n",
        "    \\end{array} &\n",
        "    \\begin{array}{rcrcll}\n",
        "        700x_1 & + & 900x_2 & & & \\\\ \n",
        "        3x_1 & + & 5x_2 & \\leq & 3600\\quad\\! & \\mbox{(wood)} \\\\\t\t\n",
        "        x_1 & + & 2x_2 & \\leq & 1600\\quad\\! & \\mbox{(labor)} \\\\\t\t\n",
        "        50x_1 & + & 20x_2 & \\leq & 48000\\:\\ & \\mbox{(machine)} \\\\\n",
        "        & & x_1 & \\geq & 0\n",
        "        \\\\\n",
        "        & & x_2 & \\geq & 0.\n",
        "    \\end{array}\n",
        "\\end{split}\n",
        "\n",
        "Let's construct our problem with Google OR-Tools step by step.\n",
        "\n"
      ]
    },
    {
      "cell_type": "markdown",
      "id": "57319328",
      "metadata": {
        "id": "57319328"
      },
      "source": [
        "### Step 1\n",
        "We should import the Google OR-Tools optimization package and its relevant libraries called *ortools* first, and then declare the **solver**.\n",
        "\n",
        "The *pywraplp* is a Python wrapper for the underlying solver created in C++.\n",
        "The [API Reference Documentation](https://google.github.io/or-tools/python/ortools/linear_solver/pywraplp.html#Solver.OPTIMAL) can be found here."
      ]
    },
    {
      "cell_type": "code",
      "execution_count": null,
      "id": "eb48e6b6",
      "metadata": {
        "id": "eb48e6b6"
      },
      "outputs": [],
      "source": [
        "# Import libraries and packages\n",
        "from ortools.linear_solver import pywraplp\n",
        "from ortools.init import pywrapinit\n",
        "\n",
        "# Declare the solver\n",
        "# The argument 'GLOP' is for using the Google Linear Optimization back-end package\n",
        "solver = pywraplp.Solver.CreateSolver('GLOP')"
      ]
    },
    {
      "cell_type": "markdown",
      "id": "c200be12",
      "metadata": {
        "id": "c200be12"
      },
      "source": [
        "### Step 2\n",
        "First step would be to declare the variables being used.\n",
        "\n",
        "In this problem, there are only 2 variables.\n",
        "\n",
        "Let\n",
        "\\begin{split}\n",
        "    x_1 = x \\\\\n",
        "    x_2 = y\n",
        "\\end{split}"
      ]
    },
    {
      "cell_type": "code",
      "execution_count": null,
      "id": "deaf6b06",
      "metadata": {
        "id": "deaf6b06"
      },
      "outputs": [],
      "source": [
        "# Define the variables as described above\n",
        "# For different cases, you can change the values in args1 and args2 to fit the problem you have at hand.\n",
        "''' \n",
        "   solver.NumVar(lb = *, ub = *, name = *)\n",
        "   \n",
        "   Description: Adds in Variables for the LP problem you have at hand.\n",
        "   \n",
        "        where...\n",
        "             lb   = Lower bound for variable (Minimum value)\n",
        "             ub   = Upper bound for variable (Maximum value)\n",
        "             name = name for variable\n",
        "'''\n",
        "\n",
        "x = solver.NumVar(0, solver.infinity(), 'x')\n",
        "y = solver.NumVar(0, solver.infinity(), 'y')\n",
        "\n",
        "print('Number of variables =', solver.NumVariables())"
      ]
    },
    {
      "cell_type": "markdown",
      "id": "35f8a615",
      "metadata": {
        "id": "35f8a615"
      },
      "source": [
        "### Step 3\n",
        "Second step would be to define the **Objective Function**.\n",
        "\n",
        "From the problem statement, **the Objective Function** is\n",
        "\\begin{split}\n",
        "    \\begin{array}{r}\n",
        "        \\max\n",
        "    \\end{array} &\n",
        "    \\begin{array}{rcrcll}\n",
        "        700x_1 & + & 900x_2 & & & \n",
        "    \\end{array}\n",
        "\\end{split}"
      ]
    },
    {
      "cell_type": "code",
      "execution_count": null,
      "id": "b73141ff",
      "metadata": {
        "id": "b73141ff"
      },
      "outputs": [],
      "source": [
        "# Define the Objective Function\n",
        "# Max 700x + 900y\n",
        "\n",
        "# Initialise the solver.Objective() function from ortools library\n",
        "objective = solver.Objective()\n",
        "\n",
        "# Set Coefficients for the variables with objective.SetCoefficient(args1, args2)\n",
        "\"\"\"\n",
        "    objective.SetCoefficient(args1, args2)\n",
        "    \n",
        "    Description: Sets Coefficient of variables in the Objective function\n",
        "    \n",
        "        where...\n",
        "            args1: variable name\n",
        "            args2: coefficient value\n",
        "\"\"\"\n",
        "objective.SetCoefficient(x, 700)\n",
        "objective.SetCoefficient(y, 900)\n",
        "\n",
        "# Sets the optimization direction to maximize\n",
        "# Alternatively, objective.SetMinimization() to minimize.\n",
        "objective.SetMaximization()"
      ]
    },
    {
      "cell_type": "markdown",
      "id": "a61897ed",
      "metadata": {
        "id": "a61897ed"
      },
      "source": [
        "### Step 4\n",
        "Next step would be to declare the **constraints** in the LP Problem. \\\n",
        "There are **3 constraints** as seen from the problem statement\n",
        "\n",
        "\\begin{split}\n",
        "    \\begin{array}{r}\n",
        "        \\mbox{s.t.} \\\\ \\\\ \\\\   \n",
        "    \\end{array} &\n",
        "    \\begin{array}{rcrcll}\n",
        "        3x_1 & + & 5x_2 & \\leq & 3600\\quad\\! & \\mbox{(wood)} \\\\\t\t\n",
        "        x_1 & + & 2x_2 & \\leq & 1600\\quad\\! & \\mbox{(labor)} \\\\\t\t\n",
        "        50x_1 & + & 20x_2 & \\leq & 48000\\:\\ & \\mbox{(machine)} \\\\\n",
        "    \\end{array}\n",
        "\\end{split}"
      ]
    },
    {
      "cell_type": "code",
      "execution_count": null,
      "id": "449aada8",
      "metadata": {
        "id": "449aada8"
      },
      "outputs": [],
      "source": [
        "# Initialise the 3 Constraints by calling the solver.Add() function\n",
        "\"\"\"\n",
        "    solver.Add(args1, args2)\n",
        "    \n",
        "    Description: Add a constraint with the variables and you can provide a name for the constraint\n",
        "    \n",
        "        Input arguments:\n",
        "            args1: algebraic equation for the constraint\n",
        "            args2(optional): Name for the constraint\\\n",
        "        \n",
        "        returns:\n",
        "            None\n",
        "\"\"\"\n",
        "# Constraint 1 for wood\n",
        "solver.Add( 3*x + 5*y <= 3600)\n",
        "\n",
        "##### Add in the remaining 2 Constraints below #####\n",
        "# Constraint 2 for labor\n",
        "\n",
        "# Constraint 3 for machine\n",
        "\n",
        "\n",
        "# Show the Number of constraints added into ortools\n",
        "print('Number of constraints =', solver.NumConstraints())"
      ]
    },
    {
      "cell_type": "markdown",
      "id": "21304f9b",
      "metadata": {
        "id": "21304f9b"
      },
      "source": [
        "### Step 5\n",
        "After declaring the **Objective function** and **Constraints** to the ortools library, we can now invoke the solver to find the **optimal basic feasible solution** for us."
      ]
    },
    {
      "cell_type": "code",
      "execution_count": null,
      "id": "710a516c",
      "metadata": {
        "id": "710a516c"
      },
      "outputs": [],
      "source": [
        "# Invoke the LP Solver from ortools with the solver.Solve() function\n",
        "\"\"\"\n",
        "    solver.Solve()\n",
        "    \n",
        "    Description: OR Tools will solve the LP problem based on the variables, Objective and Constraints given to\n",
        "                 it.\n",
        "    \n",
        "    Input arguments:\n",
        "        None\n",
        "    returns: \n",
        "        A string value that can be compared several flags within the Solver() API in ortools\n",
        "\"\"\"\n",
        "solver_status = solver.Solve()\n"
      ]
    },
    {
      "cell_type": "markdown",
      "id": "808a2a40",
      "metadata": {
        "id": "808a2a40"
      },
      "source": [
        "### Step 6\n",
        "Check if the LP solver has managed to find the **optimal Basic Feasible Solution** and display the results \\\n",
        "The Status from the LP Solver can be verified by comparing with flags in the *pywraplp.Solver()* API.\n",
        "\n",
        "Here is a table showing the status with their corresponding flag number:\n",
        "\n",
        "| Solver status   | Flag Number    |\n",
        "| --------------- |:--------------:|\n",
        "| OPTIMAL         | 0              |\n",
        "| FEASIBLE        | 1              |\n",
        "| INFEASIBLE      | 2              |\n",
        "| UNBOUNDED       | 3              |\n",
        "| ABNORMAL        | 4              |\n",
        "| NOT_SOLVED      | 6              |\n"
      ]
    },
    {
      "cell_type": "code",
      "execution_count": null,
      "id": "86463d24",
      "metadata": {
        "id": "86463d24"
      },
      "outputs": [],
      "source": [
        "# Using the status after invoking solver.Solve(), which is saved into solver_status.\n",
        "# Compare it to pywraplp.Solver.OPTIMAL flag, which is 0\n",
        "\n",
        "if solver_status == pywraplp.Solver.OPTIMAL:\n",
        "    print(f\"The flag number for the solver status is {solver_status}\")\n",
        "    print(\"---------------------------------------------------------\")\n",
        "    print('Solution:')\n",
        "    print('Objective value =', solver.Objective().Value())\n",
        "    print('x =', x.solution_value())\n",
        "    print('y =', y.solution_value())\n",
        "    print(\"---------------------------------------------------------\")\n",
        "else:\n",
        "    print(f\"The flag number of the LP Solver is {solver_status}\")\n",
        "    print(\"The problem does not have an optimal solution.\")\n",
        "    "
      ]
    },
    {
      "cell_type": "markdown",
      "id": "704a969a",
      "metadata": {
        "id": "704a969a"
      },
      "source": [
        "As seen from the results, if the solver is able to find the OPTIMAL basic feasible solution, it can show you the **Objective value (Z-value)**, and the values for the **Optimal BFS**.\n",
        "\n",
        "### Summary of Steps\n",
        "1. Import the ortools library and declare the **Solver**.\n",
        "2. Declare **Variables** in LP problem.\n",
        "3. Declare the **Objective function**.\n",
        "4. Declare the **Constraints**.\n",
        "5. Call the ortools solver to find the **Optimal BFS**.\n",
        "6. Check the **Solver status** and display the **results**.\n",
        "\n",
        "***\n",
        "***"
      ]
    },
    {
      "cell_type": "code",
      "execution_count": null,
      "id": "aee5d7c8",
      "metadata": {
        "id": "aee5d7c8"
      },
      "outputs": [],
      "source": [
        "# Clear OR Tools of all variables, Objective functions and Constraints using the solver.Clear() function\n",
        "solver.Clear()\n",
        "\n",
        "# Check if solver is cleared of all declared variables and values\n",
        "print('Number of variables =', solver.NumVariables())\n",
        "print('Number of constraints =', solver.NumConstraints())\n",
        "print('Objective value =', solver.Objective().Value())"
      ]
    },
    {
      "cell_type": "markdown",
      "id": "a0ed611c",
      "metadata": {
        "id": "a0ed611c"
      },
      "source": [
        "***\n",
        "***"
      ]
    },
    {
      "cell_type": "markdown",
      "id": "a9b58ec1",
      "metadata": {
        "id": "a9b58ec1"
      },
      "source": [
        "## Practice 2: Hands-on\n",
        "Now, you will have to follow the steps as gone through with Practice 1 and solve the next LP problem.\n",
        "\n",
        "The next LP problem statement is as follows...\n",
        "\n",
        "\\begin{split}\n",
        "    x_1 = \\mbox{ number of soccer balls produced in a day } \\\\\n",
        "    x_2 = \\mbox{ number of basketballs produced in a day } \\\\\n",
        "    x_3 = \\mbox{ number of pingpong balls produced in a day }\n",
        "\\end{split} \n",
        "\n",
        "\n",
        "\\begin{split}\n",
        "    \\begin{array}{r}\n",
        "        \\max \\\\ \\mbox{s.t.} \\\\ \\\\ \\\\ \\\\ \\\\ \\\\\n",
        "    \\end{array} &\n",
        "    \\begin{array}{rcrcll}\n",
        "        500x_1 & + & 800x_2 & + & 300x_3 & & & \\\\ \n",
        "        5x_1 & + & 2x_2 & + & 3x_3 & \\leq & 300\\quad\\! & \\mbox{(rubber)} \\\\\t\n",
        "        3x_1 & + & 8x_2 & + & x_3 & \\leq & 700\\quad\\! & \\mbox{(cloth)} \\\\\n",
        "        2x_1 & + & 5x_2 & + & 4x_3 & \\leq & 550\\quad\\! & \\mbox{(cloth)} \\\\\n",
        "        35x_1 & + & 12x_2 & + & 28x_3 & \\leq & 10500\\:\\ & \\mbox{(machine)} \\\\\n",
        "        x_1 \\geq  0, & x_2 \\geq  0, & x_3 \\geq  0\n",
        "    \\end{array}\n",
        "\\end{split}\n",
        "\n",
        "Based on the LP Problem above, construct the solver by following the steps as shown above."
      ]
    },
    {
      "cell_type": "code",
      "execution_count": null,
      "id": "fd3a38eb",
      "metadata": {
        "id": "fd3a38eb"
      },
      "outputs": [],
      "source": [
        "### Type in your code here ###\n",
        "\n",
        "## Step 1: Import Library functions and declare solver\n",
        "\n",
        "\n",
        "## Step 2: Declare variables\n",
        "\n",
        "\n",
        "## Step 3: Declare Objective Function\n",
        "# Initialise the solver.Objective() function from ortools library\n",
        "\n",
        "# Set Coefficients for the variables with objective.SetCoefficient(args1, args2)\n",
        "\n",
        "# Sets the optimization direction to maximize\n",
        "\n",
        "\n",
        "## Step 4: Declare the Constraints\n",
        "\n",
        "## Step 5: Call solver to find Optimal BFS\n",
        "\n",
        "## Step 6: Check on solver status and display results\n",
        "\n",
        "\n",
        "######## End of Code #########"
      ]
    },
    {
      "cell_type": "markdown",
      "id": "a874a00a",
      "metadata": {
        "id": "a874a00a"
      },
      "source": [
        "## Model-data Decoupling\n",
        "\n",
        "As explained in the slides previously, **model-data decoupling** is used as a way to make our program more **flexible** and **extendable**. \\\n",
        "\n",
        "### Recap\n",
        "- You can use lists to store the data/parameters (OR another common way of making the data customizable is the use configuration files (_*_.yaml files), OR using argument parsers via Command Line Interface if you are using a script. )\n",
        "\n",
        "- Model (Code Program) only contains the abstract model with minimal **hard-coded parameters/values**. \n",
        "\n",
        "### Let's try creating our decoupled model-data solver from Practice 1\n",
        "\n",
        "\\begin{split}\n",
        "    \\begin{array}{r}\n",
        "        \\max \\\\ \\mbox{s.t.} \\\\ \\\\ \\\\ \\\\ \\\\ \n",
        "    \\end{array} &\n",
        "    \\begin{array}{rcrcll}\n",
        "        700x_1 & + & 900x_2 & & & \\\\ \n",
        "        3x_1 & + & 5x_2 & \\leq & 3600\\quad\\! & \\mbox{(wood)} \\\\\t\t\n",
        "        x_1 & + & 2x_2 & \\leq & 1600\\quad\\! & \\mbox{(labor)} \\\\\t\t\n",
        "        50x_1 & + & 20x_2 & \\leq & 48000\\:\\ & \\mbox{(machine)} \\\\\n",
        "        & & x_1 & \\geq & 0\n",
        "        \\\\\n",
        "        & & x_2 & \\geq & 0.\n",
        "    \\end{array}\n",
        "\\end{split}\n"
      ]
    },
    {
      "cell_type": "markdown",
      "id": "c7e8d98c",
      "metadata": {
        "id": "c7e8d98c"
      },
      "source": [
        "### Creating lists to store data for model\n",
        "\n",
        "Now we will use the method first explained in the slides. \\\n",
        "Create lists to store the data that would be used by the model/solver."
      ]
    },
    {
      "cell_type": "code",
      "execution_count": null,
      "id": "927b2812",
      "metadata": {
        "id": "927b2812"
      },
      "outputs": [],
      "source": [
        "products = range(2)   # 2 products\n",
        "resources = range(3)  # 3 resources\n",
        "\n",
        "prices = [700, 900]   # Objective function\n",
        "\n",
        "resource_consumptions = [[3 , 5 ],\n",
        "                         [1 , 2 ],\n",
        "                         [50, 20]]\n",
        "resource_limitations = [3600, 1600, 48000]\n",
        "\n",
        "# flag for maximization or minimization\n",
        "# 0 for min, 1 for max\n",
        "max_or_min = 1"
      ]
    },
    {
      "cell_type": "markdown",
      "id": "83751867",
      "metadata": {
        "id": "83751867"
      },
      "source": [
        "Now, create a structure by following the steps to creating a LP solver, where the model will be able to take in the data from the lists created above."
      ]
    },
    {
      "cell_type": "code",
      "execution_count": null,
      "id": "a3e80c53",
      "metadata": {
        "id": "a3e80c53"
      },
      "outputs": [],
      "source": [
        "# Step 1: Declare solver\n",
        "decoupled_solver = pywraplp.Solver.CreateSolver('GLOP')\n",
        "\n",
        "# Step 2: Declare variables from 'products' list and save variables into list x\n",
        "x = []\n",
        "for i in products:\n",
        "    x.append(decoupled_solver.NumVar(0, decoupled_solver.infinity(), name = 'x' + str(i+1)))\n",
        "print(\"Number of variables : \", solver.NumVariables())\n",
        "\n",
        "# Step 3: Declare Objective Function\n",
        "obj_func = decoupled_solver.Objective()\n",
        "if max_or_min == 0:   # Minimization of objective\n",
        "    for i in products:\n",
        "        obj_func.SetCoefficient(x[i], prices[i])\n",
        "    obj_func.SetMinimization()\n",
        "else:                 # Maximization of objective\n",
        "    for i in products:\n",
        "        obj_func.SetCoefficient(x[i], prices[i])\n",
        "    obj_func.SetMaximization()\n",
        "\n",
        "# Step 4: Declare the Constraints\n",
        "for j in resources:\n",
        "    decoupled_solver.Add((sum(resource_consumptions[j][i] * x[i] for i in products) \n",
        "                           <= resource_limitations[j]))\n",
        "print(\"Number of Constraints: \", solver.NumConstraints())\n",
        "\n",
        "# Step 5: Call solver to find Optimal BFS\n",
        "solver_status = decoupled_solver.Solve()\n",
        "\n",
        "# Step 6: Check on solver status and display results\n",
        "if solver_status == pywraplp.Solver.OPTIMAL:\n",
        "    print(f\"The flag number for the solver status is {solver_status}\")\n",
        "    print(\"---------------------------------------------------------\")\n",
        "    print('Solution:')\n",
        "    print('Objective value =', solver.Objective().Value())\n",
        "    for i in products:\n",
        "        print(f\"Solution value for {x[i]} is : {x[i].solution_value()}\")\n",
        "else:\n",
        "    print(f\"The problem does not have an optimal solution with Flag number {solver_status}.\")\n"
      ]
    },
    {
      "cell_type": "markdown",
      "id": "4930e073",
      "metadata": {
        "id": "4930e073"
      },
      "source": [
        "----\n",
        "Here is a video where you can see more examples on formulating the LP problem into one that can be solved by code\n",
        "\n",
        "- [youtube link](https://www.youtube.com/watch?v=zZAobExOMB0&ab_channel=NDCConferences)"
      ]
    }
  ],
  "metadata": {
    "kernelspec": {
      "display_name": "Python [conda env:OR_rheinmetall]",
      "language": "python",
      "name": "conda-env-OR_rheinmetall-py"
    },
    "language_info": {
      "codemirror_mode": {
        "name": "ipython",
        "version": 3
      },
      "file_extension": ".py",
      "mimetype": "text/x-python",
      "name": "python",
      "nbconvert_exporter": "python",
      "pygments_lexer": "ipython3",
      "version": "3.6.13"
    },
    "colab": {
      "name": "OR_Tools_LP_Simplex.ipynb",
      "provenance": [],
      "private_outputs": true,
      "include_colab_link": true
    }
  },
  "nbformat": 4,
  "nbformat_minor": 5
}